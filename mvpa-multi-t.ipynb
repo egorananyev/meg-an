{
 "cells": [
  {
   "cell_type": "markdown",
   "metadata": {},
   "source": [
    "<font size=\"+12\"><center>\n",
    "    MVPA analysis: SVM\n",
    "</font></center>\n",
    "\n",
    "Author:\n",
    "Egor Ananyev"
   ]
  },
  {
   "cell_type": "markdown",
   "metadata": {
    "toc-hr-collapsed": true
   },
   "source": [
    "# Preparation"
   ]
  },
  {
   "cell_type": "markdown",
   "metadata": {},
   "source": [
    "## Loading packages"
   ]
  },
  {
   "cell_type": "code",
   "execution_count": 1,
   "metadata": {},
   "outputs": [],
   "source": [
    "%matplotlib qt\n",
    "import numpy as np\n",
    "import matplotlib.pyplot as plt\n",
    "import mne\n",
    "import pandas as pd\n",
    "import os"
   ]
  },
  {
   "cell_type": "code",
   "execution_count": 2,
   "metadata": {},
   "outputs": [],
   "source": [
    "from sklearn import svm\n",
    "from sklearn.model_selection import cross_val_score\n",
    "from sklearn.model_selection import train_test_split\n",
    "from sklearn.model_selection import ShuffleSplit\n",
    "from sklearn.metrics import classification_report\n",
    "from sklearn.metrics import accuracy_score"
   ]
  },
  {
   "cell_type": "code",
   "execution_count": 3,
   "metadata": {},
   "outputs": [],
   "source": [
    "mne.set_log_level('warning')  # less verbose output"
   ]
  },
  {
   "cell_type": "markdown",
   "metadata": {},
   "source": [
    "## Setting parameters"
   ]
  },
  {
   "cell_type": "code",
   "execution_count": 4,
   "metadata": {},
   "outputs": [],
   "source": [
    "cur_subj = 1\n",
    "numof_runs = 7  # TEMP; is 7 for subj 01"
   ]
  },
  {
   "cell_type": "markdown",
   "metadata": {},
   "source": [
    "## Loading evoked data"
   ]
  },
  {
   "cell_type": "code",
   "execution_count": 23,
   "metadata": {},
   "outputs": [
    {
     "name": "stdout",
     "output_type": "stream",
     "text": [
      "E:\\meg\\derivatives\\meg_derivatives\\sub-01\\ses-meg\\meg\\sub-01_ses-meg_experimental_run-01_proc-sss_epo.fif\n",
      "E:\\meg\\derivatives\\meg_derivatives\\sub-01\\ses-meg\\meg\\sub-01_ses-meg_experimental_run-02_proc-sss_epo.fif\n",
      "E:\\meg\\derivatives\\meg_derivatives\\sub-01\\ses-meg\\meg\\sub-01_ses-meg_experimental_run-03_proc-sss_epo.fif\n",
      "E:\\meg\\derivatives\\meg_derivatives\\sub-01\\ses-meg\\meg\\sub-01_ses-meg_experimental_run-04_proc-sss_epo.fif\n",
      "E:\\meg\\derivatives\\meg_derivatives\\sub-01\\ses-meg\\meg\\sub-01_ses-meg_experimental_run-05_proc-sss_epo.fif\n",
      "E:\\meg\\derivatives\\meg_derivatives\\sub-01\\ses-meg\\meg\\sub-01_ses-meg_experimental_run-06_proc-sss_epo.fif\n",
      "E:\\meg\\derivatives\\meg_derivatives\\sub-01\\ses-meg\\meg\\sub-01_ses-meg_experimental_run-07_proc-sss_epo.fif\n"
     ]
    }
   ],
   "source": [
    "# data_path = os.path.expanduser(\"C:\\\\Users\\\\egora\\\\Downloads\\\\meg\\\\\")\n",
    "data_path = os.path.expanduser('E:\\\\meg\\\\')\n",
    "\n",
    "cur_subj_str = str(cur_subj).zfill(2)\n",
    "\n",
    "for cur_run in range(numof_runs):\n",
    "    cur_run_str = str(cur_run+1).zfill(2)\n",
    "    fname = os.path.join(data_path,\n",
    "                             'derivatives\\\\meg_derivatives\\\\sub-' + cur_subj_str + '\\\\ses-meg\\\\meg\\\\sub-' + \\\n",
    "                             cur_subj_str + '_ses-meg_experimental_run-' + cur_run_str + '_proc-sss_epo.fif')\n",
    "    print(fname)\n",
    "    epochs_run = mne.read_epochs(fname)\n",
    "    # example append: https://www.programcreek.com/python/example/92634/mne.Epochs\n",
    "    epochs_run = epochs_run.pick_types(meg=True)\n",
    "    epochs_run_df = epochs_run.to_data_frame()\n",
    "    # Normalizing the signal by the baseline:\n",
    "    epochs_run_std = epochs_run_df.sort_index(level=['condition', 'epoch', 'time'], ascending=[1, 1, 1])\n",
    "    epochs_run_std = epochs_run_std.loc[pd.IndexSlice[:, :, -100:-1], :].groupby(['condition', 'epoch']).std()\n",
    "    epochs_run_norm = epochs_run_df / epochs_run_std\n",
    "    if cur_run == 0:\n",
    "        epochs_df = epochs_run_norm\n",
    "    else: \n",
    "        epochs_df = epochs_df.append(epochs_run_norm)"
   ]
  },
  {
   "cell_type": "code",
   "execution_count": 24,
   "metadata": {},
   "outputs": [
    {
     "data": {
      "text/plain": [
       "(706608, 306)"
      ]
     },
     "execution_count": 24,
     "metadata": {},
     "output_type": "execute_result"
    }
   ],
   "source": [
    "np.shape(epochs_df)"
   ]
  },
  {
   "cell_type": "markdown",
   "metadata": {},
   "source": [
    "The path to store MVPA-related data and visualization."
   ]
  },
  {
   "cell_type": "code",
   "execution_count": 12,
   "metadata": {},
   "outputs": [
    {
     "name": "stdout",
     "output_type": "stream",
     "text": [
      "E:\\meg\\derivatives\\meg_derivatives\\sub-01\\ses-meg\\meg-mvpa\\sub-01\n"
     ]
    }
   ],
   "source": [
    "mvpa_path = os.path.join(data_path, 'derivatives\\\\meg_derivatives\\\\sub-' + cur_subj_str + '\\\\ses-meg\\\\meg-mvpa\\\\')\n",
    "mvpa_fname = os.path.join(mvpa_path, 'sub-' + cur_subj_str)\n",
    "print(mvpa_fname)"
   ]
  },
  {
   "cell_type": "markdown",
   "metadata": {},
   "source": [
    "# Support Vector Machines"
   ]
  },
  {
   "cell_type": "markdown",
   "metadata": {},
   "source": [
    "## SVM routine"
   ]
  },
  {
   "cell_type": "code",
   "execution_count": 13,
   "metadata": {},
   "outputs": [],
   "source": [
    "def run_svm(X_, y_, kernel_='sigmoid', n_splits=10, track=True):\n",
    "    acc_list = []\n",
    "    ss = ShuffleSplit(n_splits=n_splits, test_size=0.2)\n",
    "    for train_index, test_index in ss.split(X_):\n",
    "        X_train = X_[train_index]\n",
    "        y_train = y_[train_index]\n",
    "        X_test = X_[test_index]\n",
    "        y_test = y_[test_index]\n",
    "        clf = svm.SVC(C=0.1, kernel=kernel_, gamma=0.001, cache_size=2000).fit(X_train, y_train)\n",
    "    #     clf = svm.SVR(cache_size=2000).fit(X_train, y_train)  # won't work with accuracy_score\n",
    "    #     scores = cross_val_score(clf, X_train, y_train, cv=4)\n",
    "    #     print(\"Accuracy: %0.2f (+/- %0.2f)\" % (scores.mean(), scores.std() * 2))\n",
    "        y_pred = clf.predict(X_test)\n",
    "    #     print(classification_report(y_test, y_pred))\n",
    "        this_acc = accuracy_score(y_test, y_pred)\n",
    "        acc_list.append(this_acc)\n",
    "    #     print(accuracy_score(y_test, y_pred))\n",
    "    if track:\n",
    "        print('{0:.2f}'.format(np.mean(acc_list)), end=' ')\n",
    "    return np.mean(acc_list), np.std(acc_list)"
   ]
  },
  {
   "cell_type": "markdown",
   "metadata": {},
   "source": [
    "## Iterating through _t_"
   ]
  },
  {
   "cell_type": "markdown",
   "metadata": {},
   "source": [
    "### Indexing logic"
   ]
  },
  {
   "cell_type": "code",
   "execution_count": 59,
   "metadata": {},
   "outputs": [],
   "source": [
    "t = -99\n",
    "epochs_df_sorted = epochs_df.copy()"
   ]
  },
  {
   "cell_type": "code",
   "execution_count": 60,
   "metadata": {},
   "outputs": [],
   "source": [
    "epochs_df_sorted.sort_index(level=['condition', 'epoch', 'time'], ascending=[1, 1, 1], inplace=True)"
   ]
  },
  {
   "cell_type": "markdown",
   "metadata": {},
   "source": [
    "Note that there might be several epochs with the same index per time point. This is of no essence."
   ]
  },
  {
   "cell_type": "code",
   "execution_count": 61,
   "metadata": {},
   "outputs": [
    {
     "data": {
      "text/html": [
       "<div>\n",
       "<style scoped>\n",
       "    .dataframe tbody tr th:only-of-type {\n",
       "        vertical-align: middle;\n",
       "    }\n",
       "\n",
       "    .dataframe tbody tr th {\n",
       "        vertical-align: top;\n",
       "    }\n",
       "\n",
       "    .dataframe thead th {\n",
       "        text-align: right;\n",
       "    }\n",
       "</style>\n",
       "<table border=\"1\" class=\"dataframe\">\n",
       "  <thead>\n",
       "    <tr style=\"text-align: right;\">\n",
       "      <th></th>\n",
       "      <th></th>\n",
       "      <th>channel</th>\n",
       "      <th>MEG0111</th>\n",
       "      <th>MEG0112</th>\n",
       "      <th>MEG0113</th>\n",
       "      <th>MEG0121</th>\n",
       "      <th>MEG0122</th>\n",
       "      <th>MEG0123</th>\n",
       "      <th>MEG0131</th>\n",
       "      <th>MEG0132</th>\n",
       "      <th>MEG0133</th>\n",
       "      <th>MEG0141</th>\n",
       "      <th>...</th>\n",
       "      <th>MEG2613</th>\n",
       "      <th>MEG2621</th>\n",
       "      <th>MEG2622</th>\n",
       "      <th>MEG2623</th>\n",
       "      <th>MEG2631</th>\n",
       "      <th>MEG2632</th>\n",
       "      <th>MEG2633</th>\n",
       "      <th>MEG2641</th>\n",
       "      <th>MEG2642</th>\n",
       "      <th>MEG2643</th>\n",
       "    </tr>\n",
       "    <tr>\n",
       "      <th>condition</th>\n",
       "      <th>epoch</th>\n",
       "      <th>time</th>\n",
       "      <th></th>\n",
       "      <th></th>\n",
       "      <th></th>\n",
       "      <th></th>\n",
       "      <th></th>\n",
       "      <th></th>\n",
       "      <th></th>\n",
       "      <th></th>\n",
       "      <th></th>\n",
       "      <th></th>\n",
       "      <th></th>\n",
       "      <th></th>\n",
       "      <th></th>\n",
       "      <th></th>\n",
       "      <th></th>\n",
       "      <th></th>\n",
       "      <th></th>\n",
       "      <th></th>\n",
       "      <th></th>\n",
       "      <th></th>\n",
       "      <th></th>\n",
       "    </tr>\n",
       "  </thead>\n",
       "  <tbody>\n",
       "    <tr>\n",
       "      <th rowspan=\"10\" valign=\"top\">right/dur1/cont017</th>\n",
       "      <th rowspan=\"3\" valign=\"top\">11</th>\n",
       "      <th>-99</th>\n",
       "      <td>0.092519</td>\n",
       "      <td>0.527134</td>\n",
       "      <td>0.001782</td>\n",
       "      <td>-0.579203</td>\n",
       "      <td>0.987419</td>\n",
       "      <td>0.480592</td>\n",
       "      <td>-0.375459</td>\n",
       "      <td>0.757054</td>\n",
       "      <td>0.978742</td>\n",
       "      <td>0.352639</td>\n",
       "      <td>...</td>\n",
       "      <td>1.016896</td>\n",
       "      <td>1.227602</td>\n",
       "      <td>0.106611</td>\n",
       "      <td>-0.296267</td>\n",
       "      <td>1.278963</td>\n",
       "      <td>0.055740</td>\n",
       "      <td>-0.528191</td>\n",
       "      <td>1.797430</td>\n",
       "      <td>-0.472305</td>\n",
       "      <td>-0.643920</td>\n",
       "    </tr>\n",
       "    <tr>\n",
       "      <th>-98</th>\n",
       "      <td>0.412762</td>\n",
       "      <td>-0.243170</td>\n",
       "      <td>0.765381</td>\n",
       "      <td>-0.444475</td>\n",
       "      <td>1.229218</td>\n",
       "      <td>1.506282</td>\n",
       "      <td>-0.665502</td>\n",
       "      <td>1.685719</td>\n",
       "      <td>-0.439807</td>\n",
       "      <td>0.244450</td>\n",
       "      <td>...</td>\n",
       "      <td>0.677301</td>\n",
       "      <td>-0.213522</td>\n",
       "      <td>-0.310566</td>\n",
       "      <td>-0.582542</td>\n",
       "      <td>-0.060151</td>\n",
       "      <td>-0.301441</td>\n",
       "      <td>-0.112234</td>\n",
       "      <td>1.150265</td>\n",
       "      <td>-1.601166</td>\n",
       "      <td>0.358227</td>\n",
       "    </tr>\n",
       "    <tr>\n",
       "      <th>-97</th>\n",
       "      <td>-0.721618</td>\n",
       "      <td>-1.075754</td>\n",
       "      <td>0.717821</td>\n",
       "      <td>-1.070619</td>\n",
       "      <td>0.893349</td>\n",
       "      <td>1.092109</td>\n",
       "      <td>-1.549719</td>\n",
       "      <td>2.012225</td>\n",
       "      <td>-0.684367</td>\n",
       "      <td>-1.258963</td>\n",
       "      <td>...</td>\n",
       "      <td>0.060038</td>\n",
       "      <td>-1.439652</td>\n",
       "      <td>-1.497404</td>\n",
       "      <td>-1.670321</td>\n",
       "      <td>-0.763688</td>\n",
       "      <td>-1.101015</td>\n",
       "      <td>-1.807018</td>\n",
       "      <td>0.767591</td>\n",
       "      <td>-1.539150</td>\n",
       "      <td>-0.414015</td>\n",
       "    </tr>\n",
       "    <tr>\n",
       "      <th rowspan=\"6\" valign=\"top\">16</th>\n",
       "      <th>-99</th>\n",
       "      <td>0.048492</td>\n",
       "      <td>0.660727</td>\n",
       "      <td>-0.231832</td>\n",
       "      <td>0.467660</td>\n",
       "      <td>-1.045358</td>\n",
       "      <td>-0.734786</td>\n",
       "      <td>-0.247667</td>\n",
       "      <td>-0.688673</td>\n",
       "      <td>-1.363715</td>\n",
       "      <td>-0.074459</td>\n",
       "      <td>...</td>\n",
       "      <td>1.546608</td>\n",
       "      <td>1.268870</td>\n",
       "      <td>0.802918</td>\n",
       "      <td>1.730506</td>\n",
       "      <td>1.102430</td>\n",
       "      <td>1.296391</td>\n",
       "      <td>1.839522</td>\n",
       "      <td>0.455736</td>\n",
       "      <td>2.649090</td>\n",
       "      <td>1.277000</td>\n",
       "    </tr>\n",
       "    <tr>\n",
       "      <th>-99</th>\n",
       "      <td>1.082344</td>\n",
       "      <td>-0.020703</td>\n",
       "      <td>2.151818</td>\n",
       "      <td>-0.653911</td>\n",
       "      <td>1.265922</td>\n",
       "      <td>-1.256264</td>\n",
       "      <td>-0.423758</td>\n",
       "      <td>2.088990</td>\n",
       "      <td>0.923060</td>\n",
       "      <td>0.843821</td>\n",
       "      <td>...</td>\n",
       "      <td>-0.833545</td>\n",
       "      <td>-0.320841</td>\n",
       "      <td>-1.280975</td>\n",
       "      <td>0.657511</td>\n",
       "      <td>-0.009122</td>\n",
       "      <td>-0.760565</td>\n",
       "      <td>0.917302</td>\n",
       "      <td>-1.307650</td>\n",
       "      <td>1.922191</td>\n",
       "      <td>-0.945187</td>\n",
       "    </tr>\n",
       "    <tr>\n",
       "      <th>-98</th>\n",
       "      <td>-0.960621</td>\n",
       "      <td>0.540175</td>\n",
       "      <td>-0.746308</td>\n",
       "      <td>-0.789565</td>\n",
       "      <td>-1.905695</td>\n",
       "      <td>0.692091</td>\n",
       "      <td>-0.584949</td>\n",
       "      <td>-0.669143</td>\n",
       "      <td>-0.151066</td>\n",
       "      <td>-0.811708</td>\n",
       "      <td>...</td>\n",
       "      <td>0.786531</td>\n",
       "      <td>0.876208</td>\n",
       "      <td>0.683992</td>\n",
       "      <td>1.713315</td>\n",
       "      <td>0.699155</td>\n",
       "      <td>1.116865</td>\n",
       "      <td>1.947339</td>\n",
       "      <td>0.270132</td>\n",
       "      <td>1.008081</td>\n",
       "      <td>0.654361</td>\n",
       "    </tr>\n",
       "    <tr>\n",
       "      <th>-98</th>\n",
       "      <td>0.819679</td>\n",
       "      <td>1.064582</td>\n",
       "      <td>1.323924</td>\n",
       "      <td>-0.720654</td>\n",
       "      <td>0.589183</td>\n",
       "      <td>0.599054</td>\n",
       "      <td>0.455748</td>\n",
       "      <td>1.465534</td>\n",
       "      <td>0.480969</td>\n",
       "      <td>1.038651</td>\n",
       "      <td>...</td>\n",
       "      <td>-1.037045</td>\n",
       "      <td>-1.636828</td>\n",
       "      <td>-0.145597</td>\n",
       "      <td>-0.550218</td>\n",
       "      <td>-1.696699</td>\n",
       "      <td>-0.493626</td>\n",
       "      <td>-0.764643</td>\n",
       "      <td>-1.671279</td>\n",
       "      <td>1.179704</td>\n",
       "      <td>-0.847966</td>\n",
       "    </tr>\n",
       "    <tr>\n",
       "      <th>-97</th>\n",
       "      <td>-0.810616</td>\n",
       "      <td>-0.906892</td>\n",
       "      <td>-0.853572</td>\n",
       "      <td>-0.302699</td>\n",
       "      <td>-1.153240</td>\n",
       "      <td>0.040086</td>\n",
       "      <td>-0.343781</td>\n",
       "      <td>-1.950733</td>\n",
       "      <td>-0.056094</td>\n",
       "      <td>-0.955016</td>\n",
       "      <td>...</td>\n",
       "      <td>0.374566</td>\n",
       "      <td>0.661385</td>\n",
       "      <td>0.670397</td>\n",
       "      <td>0.960070</td>\n",
       "      <td>0.466338</td>\n",
       "      <td>0.995221</td>\n",
       "      <td>1.514234</td>\n",
       "      <td>0.198386</td>\n",
       "      <td>0.356578</td>\n",
       "      <td>0.893862</td>\n",
       "    </tr>\n",
       "    <tr>\n",
       "      <th>-97</th>\n",
       "      <td>0.787754</td>\n",
       "      <td>1.956866</td>\n",
       "      <td>0.946988</td>\n",
       "      <td>0.152848</td>\n",
       "      <td>-0.647129</td>\n",
       "      <td>1.065710</td>\n",
       "      <td>0.655989</td>\n",
       "      <td>0.348697</td>\n",
       "      <td>0.628523</td>\n",
       "      <td>1.409902</td>\n",
       "      <td>...</td>\n",
       "      <td>-1.647150</td>\n",
       "      <td>-1.049820</td>\n",
       "      <td>-0.096711</td>\n",
       "      <td>-0.472613</td>\n",
       "      <td>-1.033206</td>\n",
       "      <td>-1.014536</td>\n",
       "      <td>-1.140410</td>\n",
       "      <td>-0.702755</td>\n",
       "      <td>0.655099</td>\n",
       "      <td>-1.478918</td>\n",
       "    </tr>\n",
       "    <tr>\n",
       "      <th>22</th>\n",
       "      <th>-99</th>\n",
       "      <td>-0.354338</td>\n",
       "      <td>0.749424</td>\n",
       "      <td>-0.623016</td>\n",
       "      <td>-0.455043</td>\n",
       "      <td>-0.204499</td>\n",
       "      <td>-0.072587</td>\n",
       "      <td>-0.299003</td>\n",
       "      <td>-1.031946</td>\n",
       "      <td>0.731453</td>\n",
       "      <td>-0.349746</td>\n",
       "      <td>...</td>\n",
       "      <td>0.043132</td>\n",
       "      <td>0.346596</td>\n",
       "      <td>1.548875</td>\n",
       "      <td>-0.058564</td>\n",
       "      <td>-0.245852</td>\n",
       "      <td>1.443973</td>\n",
       "      <td>0.276985</td>\n",
       "      <td>-0.436213</td>\n",
       "      <td>0.979790</td>\n",
       "      <td>1.188644</td>\n",
       "    </tr>\n",
       "  </tbody>\n",
       "</table>\n",
       "<p>10 rows × 306 columns</p>\n",
       "</div>"
      ],
      "text/plain": [
       "channel                         MEG0111   MEG0112   MEG0113   MEG0121  \\\n",
       "condition          epoch time                                           \n",
       "right/dur1/cont017 11    -99   0.092519  0.527134  0.001782 -0.579203   \n",
       "                         -98   0.412762 -0.243170  0.765381 -0.444475   \n",
       "                         -97  -0.721618 -1.075754  0.717821 -1.070619   \n",
       "                   16    -99   0.048492  0.660727 -0.231832  0.467660   \n",
       "                         -99   1.082344 -0.020703  2.151818 -0.653911   \n",
       "                         -98  -0.960621  0.540175 -0.746308 -0.789565   \n",
       "                         -98   0.819679  1.064582  1.323924 -0.720654   \n",
       "                         -97  -0.810616 -0.906892 -0.853572 -0.302699   \n",
       "                         -97   0.787754  1.956866  0.946988  0.152848   \n",
       "                   22    -99  -0.354338  0.749424 -0.623016 -0.455043   \n",
       "\n",
       "channel                         MEG0122   MEG0123   MEG0131   MEG0132  \\\n",
       "condition          epoch time                                           \n",
       "right/dur1/cont017 11    -99   0.987419  0.480592 -0.375459  0.757054   \n",
       "                         -98   1.229218  1.506282 -0.665502  1.685719   \n",
       "                         -97   0.893349  1.092109 -1.549719  2.012225   \n",
       "                   16    -99  -1.045358 -0.734786 -0.247667 -0.688673   \n",
       "                         -99   1.265922 -1.256264 -0.423758  2.088990   \n",
       "                         -98  -1.905695  0.692091 -0.584949 -0.669143   \n",
       "                         -98   0.589183  0.599054  0.455748  1.465534   \n",
       "                         -97  -1.153240  0.040086 -0.343781 -1.950733   \n",
       "                         -97  -0.647129  1.065710  0.655989  0.348697   \n",
       "                   22    -99  -0.204499 -0.072587 -0.299003 -1.031946   \n",
       "\n",
       "channel                         MEG0133   MEG0141  ...   MEG2613   MEG2621  \\\n",
       "condition          epoch time                      ...                       \n",
       "right/dur1/cont017 11    -99   0.978742  0.352639  ...  1.016896  1.227602   \n",
       "                         -98  -0.439807  0.244450  ...  0.677301 -0.213522   \n",
       "                         -97  -0.684367 -1.258963  ...  0.060038 -1.439652   \n",
       "                   16    -99  -1.363715 -0.074459  ...  1.546608  1.268870   \n",
       "                         -99   0.923060  0.843821  ... -0.833545 -0.320841   \n",
       "                         -98  -0.151066 -0.811708  ...  0.786531  0.876208   \n",
       "                         -98   0.480969  1.038651  ... -1.037045 -1.636828   \n",
       "                         -97  -0.056094 -0.955016  ...  0.374566  0.661385   \n",
       "                         -97   0.628523  1.409902  ... -1.647150 -1.049820   \n",
       "                   22    -99   0.731453 -0.349746  ...  0.043132  0.346596   \n",
       "\n",
       "channel                         MEG2622   MEG2623   MEG2631   MEG2632  \\\n",
       "condition          epoch time                                           \n",
       "right/dur1/cont017 11    -99   0.106611 -0.296267  1.278963  0.055740   \n",
       "                         -98  -0.310566 -0.582542 -0.060151 -0.301441   \n",
       "                         -97  -1.497404 -1.670321 -0.763688 -1.101015   \n",
       "                   16    -99   0.802918  1.730506  1.102430  1.296391   \n",
       "                         -99  -1.280975  0.657511 -0.009122 -0.760565   \n",
       "                         -98   0.683992  1.713315  0.699155  1.116865   \n",
       "                         -98  -0.145597 -0.550218 -1.696699 -0.493626   \n",
       "                         -97   0.670397  0.960070  0.466338  0.995221   \n",
       "                         -97  -0.096711 -0.472613 -1.033206 -1.014536   \n",
       "                   22    -99   1.548875 -0.058564 -0.245852  1.443973   \n",
       "\n",
       "channel                         MEG2633   MEG2641   MEG2642   MEG2643  \n",
       "condition          epoch time                                          \n",
       "right/dur1/cont017 11    -99  -0.528191  1.797430 -0.472305 -0.643920  \n",
       "                         -98  -0.112234  1.150265 -1.601166  0.358227  \n",
       "                         -97  -1.807018  0.767591 -1.539150 -0.414015  \n",
       "                   16    -99   1.839522  0.455736  2.649090  1.277000  \n",
       "                         -99   0.917302 -1.307650  1.922191 -0.945187  \n",
       "                         -98   1.947339  0.270132  1.008081  0.654361  \n",
       "                         -98  -0.764643 -1.671279  1.179704 -0.847966  \n",
       "                         -97   1.514234  0.198386  0.356578  0.893862  \n",
       "                         -97  -1.140410 -0.702755  0.655099 -1.478918  \n",
       "                   22    -99   0.276985 -0.436213  0.979790  1.188644  \n",
       "\n",
       "[10 rows x 306 columns]"
      ]
     },
     "execution_count": 61,
     "metadata": {},
     "output_type": "execute_result"
    }
   ],
   "source": [
    "epochs_df_sorted[epochs_df_sorted.index.get_level_values('condition').str.contains('right')].loc[pd.IndexSlice[:, :, t:t+2], :].head(10)"
   ]
  },
  {
   "cell_type": "markdown",
   "metadata": {},
   "source": [
    "### Function"
   ]
  },
  {
   "cell_type": "code",
   "execution_count": 72,
   "metadata": {},
   "outputs": [],
   "source": [
    "def iter_times(all_times_, epochs_subset_df_, multi_t, kernel='sigmoid', n_splits=10, track=True):  #, validate=False):\n",
    "    acc_mean = []\n",
    "    acc_sd = []\n",
    "    counter = 0\n",
    "    print('[', end=' ')\n",
    "    for t in all_times_:\n",
    "        if (counter == int(len(all_times)/10)):\n",
    "            print('||', end=' ')\n",
    "            counter = 0\n",
    "        counter += 1\n",
    "        X_right = epochs_subset_df_[epochs_subset_df_.index.get_level_values('condition').str.contains('right')].loc[pd.IndexSlice[:, :, t:t+multi_t-1], :]\n",
    "        X_left = epochs_subset_df_[epochs_subset_df_.index.get_level_values('condition').str.contains('left')].loc[pd.IndexSlice[:, :, t:t+multi_t-1], :]\n",
    "        X = np.concatenate((X_right, X_left))\n",
    "        y = np.concatenate((np.repeat(1, len(X_right)), np.repeat(0, len(X_left))))\n",
    "        acc_this_mean, acc_this_sd = run_svm(X, y, kernel_=kernel, n_splits=n_splits, track=track)\n",
    "        acc_mean.append(acc_this_mean)\n",
    "        acc_sd.append(acc_this_sd)\n",
    "    print(']')\n",
    "    return acc_mean, acc_sd"
   ]
  },
  {
   "cell_type": "markdown",
   "metadata": {},
   "source": [
    "# Training across 3 timepoints"
   ]
  },
  {
   "cell_type": "code",
   "execution_count": 25,
   "metadata": {},
   "outputs": [
    {
     "name": "stdout",
     "output_type": "stream",
     "text": [
      "[-99 -96 -93 -90 -87 -84 -81 -78 -75 -72 -69 -66 -63 -60 -57 -54 -51 -48\n",
      " -45 -42 -39 -36 -33 -30 -27 -24 -21 -18 -15 -12  -9  -6  -3   0   3   6\n",
      "   9  12  15  18  21  24  27  30  33  36  39  42  45  48  51  54  57  60\n",
      "  63  66  69  72  75  78  81  84  87  90  93  96  99 102 105 108 111 114\n",
      " 117 120 123 126 129 132 135 138 141 144 147 150 153 156 159 162 165 168\n",
      " 171 174 177 180 183 186 189 192 195 198 201 204 207 210 213 216 219 222\n",
      " 225 228 231 234 237 240 243 246 249 252 255 258 261 264 267 270 273 276\n",
      " 279 282 285 288 291 294 297 300 303 306 309 312 315 318 321 324 327 330\n",
      " 333 336 339 342 345 348 351 354 357 360 363 366 369 372 375 378 381 384\n",
      " 387 390 393 396 399 402 405 408 411 414 417 420 423 426 429 432 435 438\n",
      " 441 444 447 450 453 456 459 462 465 468 471 474 477 480 483 486 489 492\n",
      " 495 498 501 504 507 510 513 516 519 522 525 528 531 534 537 540 543 546\n",
      " 549 552 555 558 561 564 567 570 573 576 579 582 585 588 591 594 597 600]\n",
      "(234,)\n"
     ]
    }
   ],
   "source": [
    "multi_t = 3  # training across this many t's\n",
    "all_times = np.round(epochs_run.times * 1000).astype(int)[1::multi_t]  # taking every multi_t's t for indexing\n",
    "print(all_times)\n",
    "print(np.shape(all_times))"
   ]
  },
  {
   "cell_type": "code",
   "execution_count": 64,
   "metadata": {},
   "outputs": [
    {
     "name": "stdout",
     "output_type": "stream",
     "text": [
      "[ 0.53 0.52 0.52 0.54 0.53 0.53 0.51 0.52 0.49 0.49 0.50 0.50 0.50 0.51 0.53 0.52 0.51 0.49 0.50 0.50 0.51 0.49 0.49 || 0.49 0.52 0.52 0.52 0.49 0.49 0.49 0.50 0.53 0.51 0.53 0.52 0.52 0.53 0.54 0.54 0.52 0.52 0.52 0.52 0.50 0.52 0.51 || 0.50 0.52 0.53 0.55 0.57 0.57 0.55 0.54 0.54 0.54 0.55 0.54 0.56 0.55 0.54 0.58 0.58 0.58 0.56 0.53 0.54 0.54 0.56 || 0.54 0.55 0.54 0.55 0.54 0.55 0.55 0.55 0.56 0.57 0.56 0.56 0.56 0.53 0.53 0.54 0.53 0.51 0.52 0.50 0.50 0.49 0.50 || 0.50 0.53 0.52 0.53 0.53 0.53 0.53 0.53 0.52 0.52 0.54 0.54 0.54 0.52 0.51 0.52 0.53 0.54 0.53 0.53 0.51 0.53 0.51 || 0.53 0.54 0.55 0.52 0.54 0.55 0.51 0.51 0.53 0.52 0.52 0.52 0.50 0.52 0.52 0.54 0.54 0.53 0.54 0.56 0.56 0.54 0.55 || 0.52 0.52 0.51 0.51 0.51 0.52 0.49 0.50 0.49 0.52 0.51 0.51 0.52 0.50 0.51 0.52 0.52 0.50 0.51 0.52 0.50 0.52 0.52 || 0.52 0.52 0.51 0.51 0.51 0.51 0.51 0.51 0.50 0.51 0.51 0.51 0.50 0.51 0.51 0.51 0.50 0.51 0.51 0.50 0.51 0.51 0.50 || 0.51 0.50 0.50 0.49 0.50 0.51 0.49 0.50 0.50 0.50 0.50 0.51 0.50 0.50 0.51 0.50 0.50 0.51 0.50 0.51 0.50 0.51 0.50 || 0.51 0.51 0.51 0.51 0.50 0.50 0.50 0.50 0.50 0.50 0.50 0.50 0.50 0.50 0.51 0.51 0.50 0.50 0.50 0.51 0.50 0.50 0.49 || 0.50 0.51 0.50 0.48 ]\n"
     ]
    }
   ],
   "source": [
    "acc = pd.DataFrame(np.zeros((1, len(all_times))), columns=all_times)\n",
    "acc_sd = pd.DataFrame(np.zeros((1, len(all_times))), columns=all_times)\n",
    "epochs_df.sort_index(level=['condition', 'epoch', 'time'], ascending=[1, 1, 1], inplace=True)\n",
    "cur_acc_mean, cur_acc_sd = iter_times(all_times, epochs_df, multi_t, track=True, n_splits=25)  #, validate=False)\n",
    "acc.loc[0, :] = cur_acc_mean\n",
    "acc_sd.loc[0, :] = cur_acc_sd"
   ]
  },
  {
   "cell_type": "code",
   "execution_count": 65,
   "metadata": {},
   "outputs": [],
   "source": [
    "acc.to_csv(mvpa_fname + '_acc_multi-t-3.csv')"
   ]
  },
  {
   "cell_type": "code",
   "execution_count": 66,
   "metadata": {},
   "outputs": [
    {
     "data": {
      "image/png": "[encoded data removed]",
      "text/plain": [
       "<Figure size 1152x216 with 1 Axes>"
      ]
     },
     "metadata": {
      "needs_background": "light"
     },
     "output_type": "display_data"
    }
   ],
   "source": [
    "%matplotlib inline\n",
    "plt.figure(figsize=(16, 3))\n",
    "# plt.plot(all_times, np.array(acc.T));\n",
    "plt.errorbar(all_times, np.array(acc.T), yerr=acc_sd.to_numpy().flatten(), ecolor='gray', elinewidth=1)\n",
    "plt.savefig(mvpa_fname + '_sigmoid_sd' + '.pdf')\n",
    "# leg = plt.legend(loc='lower left', ncol=4, shadow=True, fancybox=True)\n",
    "# leg.get_frame().set_alpha(0.8)"
   ]
  },
  {
   "cell_type": "markdown",
   "metadata": {},
   "source": [
    "# Training across 6 timepoints"
   ]
  },
  {
   "cell_type": "code",
   "execution_count": 68,
   "metadata": {},
   "outputs": [
    {
     "name": "stdout",
     "output_type": "stream",
     "text": [
      "[-100  -94  -88  -82  -76  -70  -64  -58  -52  -46  -40  -34  -28  -22\n",
      "  -16  -10   -4    2    8   14   20   26   32   38   44   50   56   62\n",
      "   68   74   80   86   92   98  104  110  116  122  128  134  140  146\n",
      "  152  158  164  170  176  182  188  194  200  206  212  218  224  230\n",
      "  236  242  248  254  260  266  272  278  284  290  296  302  308  314\n",
      "  320  326  332  338  344  350  356  362  368  374  380  386  392  398\n",
      "  404  410  416  422  428  434  440  446  452  458  464  470  476  482\n",
      "  488  494  500  506  512  518  524  530  536  542  548  554  560  566\n",
      "  572  578  584  590  596]\n",
      "(117,)\n"
     ]
    }
   ],
   "source": [
    "multi_t = 6  # training across this many t's\n",
    "all_times = np.round(epochs_run.times * 1000).astype(int)[0::multi_t]  # taking every multi_t's t for indexing\n",
    "print(all_times)\n",
    "print(np.shape(all_times))"
   ]
  },
  {
   "cell_type": "code",
   "execution_count": 73,
   "metadata": {},
   "outputs": [
    {
     "name": "stdout",
     "output_type": "stream",
     "text": [
      "[ 0.53 0.54 0.55 0.53 0.51 0.52 0.52 0.54 0.53 0.53 0.53 || 0.50 0.54 0.53 0.52 0.53 0.54 0.55 0.56 0.54 0.54 0.53 || 0.53 0.53 0.56 0.57 0.57 0.55 0.56 0.56 0.57 0.60 0.57 || 0.56 0.57 0.56 0.56 0.56 0.57 0.57 0.57 0.55 0.55 0.53 || 0.52 0.52 0.53 0.54 0.53 0.55 0.53 0.55 0.54 0.54 0.55 || 0.54 0.52 0.51 0.53 0.52 0.52 0.51 0.51 0.50 0.50 0.52 || 0.51 0.53 0.52 0.51 0.50 0.51 0.51 0.50 0.50 0.50 0.50 || 0.51 0.51 0.50 0.51 0.50 0.51 0.51 0.51 0.51 0.51 0.50 || 0.50 0.51 0.51 0.51 0.51 0.50 0.50 0.50 0.49 0.50 0.51 || 0.51 0.51 0.51 0.50 0.51 0.51 0.51 0.51 0.50 0.51 0.51 || 0.50 0.51 0.50 0.50 0.50 0.49 0.50 ]\n"
     ]
    }
   ],
   "source": [
    "acc = pd.DataFrame(np.zeros((1, len(all_times))), columns=all_times)\n",
    "acc_sd = pd.DataFrame(np.zeros((1, len(all_times))), columns=all_times)\n",
    "epochs_df.sort_index(level=['condition', 'epoch', 'time'], ascending=[1, 1, 1], inplace=True)\n",
    "cur_acc_mean, cur_acc_sd = iter_times(all_times, epochs_df, multi_t, track=True, n_splits=25)  #, validate=False)\n",
    "acc.loc[0, :] = cur_acc_mean\n",
    "acc_sd.loc[0, :] = cur_acc_sd"
   ]
  },
  {
   "cell_type": "code",
   "execution_count": 74,
   "metadata": {},
   "outputs": [],
   "source": [
    "acc.to_csv(mvpa_fname + '_acc_multi-t-6.csv')"
   ]
  },
  {
   "cell_type": "code",
   "execution_count": 75,
   "metadata": {},
   "outputs": [
    {
     "data": {
      "image/png": "[encoded data removed]",
      "text/plain": [
       "<Figure size 1152x216 with 1 Axes>"
      ]
     },
     "metadata": {
      "needs_background": "light"
     },
     "output_type": "display_data"
    }
   ],
   "source": [
    "%matplotlib inline\n",
    "plt.figure(figsize=(16, 3))\n",
    "# plt.plot(all_times, np.array(acc.T));\n",
    "plt.errorbar(all_times, np.array(acc.T), yerr=acc_sd.to_numpy().flatten(), ecolor='gray', elinewidth=1)\n",
    "plt.savefig(mvpa_fname + '_sigmoid_sd' + '.pdf')\n",
    "# leg = plt.legend(loc='lower left', ncol=4, shadow=True, fancybox=True)\n",
    "# leg.get_frame().set_alpha(0.8)"
   ]
  },
  {
   "cell_type": "markdown",
   "metadata": {},
   "source": [
    "# Training across 10 timepoints"
   ]
  },
  {
   "cell_type": "code",
   "execution_count": 76,
   "metadata": {},
   "outputs": [
    {
     "name": "stdout",
     "output_type": "stream",
     "text": [
      "[-100  -90  -80  -70  -60  -50  -40  -30  -20  -10    0   10   20   30\n",
      "   40   50   60   70   80   90  100  110  120  130  140  150  160  170\n",
      "  180  190  200  210  220  230  240  250  260  270  280  290  300  310\n",
      "  320  330  340  350  360  370  380  390  400  410  420  430  440  450\n",
      "  460  470  480  490  500  510  520  530  540  550  560  570  580  590\n",
      "  600]\n",
      "(71,)\n"
     ]
    }
   ],
   "source": [
    "multi_t = 10  # training across this many t's\n",
    "all_times = np.round(epochs_run.times * 1000).astype(int)[0::multi_t]  # taking every multi_t's t for indexing\n",
    "print(all_times)\n",
    "print(np.shape(all_times))"
   ]
  },
  {
   "cell_type": "code",
   "execution_count": null,
   "metadata": {},
   "outputs": [
    {
     "name": "stdout",
     "output_type": "stream",
     "text": [
      "[ 0.54 0.55 0.53 0.53 0.54 0.53 0.52 || 0.53 0.53 0.53 0.55 0.55 0.55 0.53 || 0.55 0.57 0.57 0.55 0.59 0.57 0.56 || 0.56 0.57 0.57 0.57 0.55 0.53 0.53 || 0.53 0.53 0.53 0.54 0.52 0.51 0.51 || 0.51 0.51 0.50 0.50 0.51 0.52 0.51 || 0.51 0.51 0.50 0.50 0.51 0.50 0.50 || 0.51 0.51 0.51 0.51 0.51 0.51 0.51 || 0.50 0.50 0.51 0.50 0.51 "
     ]
    }
   ],
   "source": [
    "acc = pd.DataFrame(np.zeros((1, len(all_times))), columns=all_times)\n",
    "acc_sd = pd.DataFrame(np.zeros((1, len(all_times))), columns=all_times)\n",
    "epochs_df.sort_index(level=['condition', 'epoch', 'time'], ascending=[1, 1, 1], inplace=True)\n",
    "cur_acc_mean, cur_acc_sd = iter_times(all_times, epochs_df, multi_t, track=True, n_splits=25)  #, validate=False)\n",
    "acc.loc[0, :] = cur_acc_mean\n",
    "acc_sd.loc[0, :] = cur_acc_sd"
   ]
  },
  {
   "cell_type": "code",
   "execution_count": null,
   "metadata": {},
   "outputs": [],
   "source": [
    "acc.to_csv(mvpa_fname + '_acc_multi-t-10.csv')"
   ]
  },
  {
   "cell_type": "code",
   "execution_count": null,
   "metadata": {},
   "outputs": [],
   "source": [
    "%matplotlib inline\n",
    "plt.figure(figsize=(16, 3))\n",
    "# plt.plot(all_times, np.array(acc.T));\n",
    "plt.errorbar(all_times, np.array(acc.T), yerr=acc_sd.to_numpy().flatten(), ecolor='gray', elinewidth=1)\n",
    "plt.savefig(mvpa_fname + '_sigmoid_sd' + '.pdf')\n",
    "# leg = plt.legend(loc='lower left', ncol=4, shadow=True, fancybox=True)\n",
    "# leg.get_frame().set_alpha(0.8)"
   ]
  }
 ],
 "metadata": {
  "kernelspec": {
   "display_name": "Python 3",
   "language": "python",
   "name": "python3"
  },
  "language_info": {
   "codemirror_mode": {
    "name": "ipython",
    "version": 3
   },
   "file_extension": ".py",
   "mimetype": "text/x-python",
   "name": "python",
   "nbconvert_exporter": "python",
   "pygments_lexer": "ipython3",
   "version": "3.8.1"
  },
  "toc-autonumbering": true,
  "widgets": {
   "state": {},
   "version": "1.1.2"
  }
 },
 "nbformat": 4,
 "nbformat_minor": 4
}
