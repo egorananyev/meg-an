{
 "cells": [
  {
   "cell_type": "markdown",
   "metadata": {},
   "source": [
    "<font size=\"+12\"><center>\n",
    "    MVPA analysis: SVM\n",
    "</font></center>\n",
    "\n",
    "Author:\n",
    "Egor Ananyev"
   ]
  },
  {
   "cell_type": "markdown",
   "metadata": {
    "toc-hr-collapsed": true
   },
   "source": [
    "# Preparation"
   ]
  },
  {
   "cell_type": "markdown",
   "metadata": {},
   "source": [
    "## Loading packages"
   ]
  },
  {
   "cell_type": "code",
   "execution_count": 1,
   "metadata": {},
   "outputs": [],
   "source": [
    "%matplotlib qt\n",
    "import numpy as np\n",
    "import matplotlib.pyplot as plt\n",
    "import mne\n",
    "import pandas as pd\n",
    "import os"
   ]
  },
  {
   "cell_type": "code",
   "execution_count": 2,
   "metadata": {},
   "outputs": [],
   "source": [
    "mne.set_log_level('warning')  # less verbose output"
   ]
  },
  {
   "cell_type": "markdown",
   "metadata": {},
   "source": [
    "## Setting parameters"
   ]
  },
  {
   "cell_type": "code",
   "execution_count": 3,
   "metadata": {},
   "outputs": [],
   "source": [
    "interactive = False  # Whether to render interactive figures such as channel plots\n",
    "# ...should be set to True on first pass\n",
    "\n",
    "debug = False\n",
    "\n",
    "cur_subj = 1\n",
    "numof_runs = 7  # TEMP; is 7 for subj 01"
   ]
  },
  {
   "cell_type": "markdown",
   "metadata": {},
   "source": [
    "## Loading evoked data"
   ]
  },
  {
   "cell_type": "code",
   "execution_count": 4,
   "metadata": {},
   "outputs": [
    {
     "name": "stdout",
     "output_type": "stream",
     "text": [
      "E:\\meg\\derivatives\\meg_derivatives\\sub-01\\ses-meg\\meg\\sub-01_ses-meg_experimental_run-01_proc-sss_300_epo.fif\n",
      "E:\\meg\\derivatives\\meg_derivatives\\sub-01\\ses-meg\\meg\\sub-01_ses-meg_experimental_run-02_proc-sss_300_epo.fif\n",
      "E:\\meg\\derivatives\\meg_derivatives\\sub-01\\ses-meg\\meg\\sub-01_ses-meg_experimental_run-03_proc-sss_300_epo.fif\n",
      "E:\\meg\\derivatives\\meg_derivatives\\sub-01\\ses-meg\\meg\\sub-01_ses-meg_experimental_run-04_proc-sss_300_epo.fif\n",
      "E:\\meg\\derivatives\\meg_derivatives\\sub-01\\ses-meg\\meg\\sub-01_ses-meg_experimental_run-05_proc-sss_300_epo.fif\n",
      "E:\\meg\\derivatives\\meg_derivatives\\sub-01\\ses-meg\\meg\\sub-01_ses-meg_experimental_run-06_proc-sss_300_epo.fif\n",
      "E:\\meg\\derivatives\\meg_derivatives\\sub-01\\ses-meg\\meg\\sub-01_ses-meg_experimental_run-07_proc-sss_300_epo.fif\n"
     ]
    }
   ],
   "source": [
    "# data_path = os.path.expanduser(\"C:\\\\Users\\\\egora\\\\Downloads\\\\meg\\\\\")\n",
    "data_path = os.path.expanduser('E:\\\\meg\\\\')\n",
    "\n",
    "cur_subj_str = str(cur_subj).zfill(2)\n",
    "\n",
    "for cur_run in range(numof_runs):\n",
    "    cur_run_str = str(cur_run+1).zfill(2)\n",
    "    fname = os.path.join(data_path,\n",
    "                             'derivatives\\\\meg_derivatives\\\\sub-' + cur_subj_str + '\\\\ses-meg\\\\meg\\\\sub-' + \\\n",
    "                             cur_subj_str + '_ses-meg_experimental_run-' + cur_run_str + '_proc-sss_300_epo.fif')\n",
    "    print(fname)\n",
    "    epochs_run = mne.read_epochs(fname)\n",
    "    # example append: https://www.programcreek.com/python/example/92634/mne.Epochs\n",
    "    epochs_run = epochs_run.pick_types(meg=True)\n",
    "    epochs_run_df = epochs_run.to_data_frame()\n",
    "    # Normalizing the signal by the baseline:\n",
    "    epochs_run_std = epochs_run_df.sort_index(level=['condition', 'epoch', 'time'], ascending=[1, 1, 1])\n",
    "    epochs_run_std = epochs_run_std.loc[pd.IndexSlice[:, :, -100:-1], :].groupby(['condition', 'epoch']).std()\n",
    "    epochs_run_norm = epochs_run_df / epochs_run_std\n",
    "    if cur_run == 0:\n",
    "        epochs_df = epochs_run_norm\n",
    "    else: \n",
    "        epochs_df = epochs_df.append(epochs_run_norm)"
   ]
  },
  {
   "cell_type": "markdown",
   "metadata": {},
   "source": [
    "# Support Vector Machines"
   ]
  },
  {
   "cell_type": "code",
   "execution_count": 5,
   "metadata": {},
   "outputs": [],
   "source": [
    "from sklearn import svm"
   ]
  },
  {
   "cell_type": "code",
   "execution_count": 6,
   "metadata": {},
   "outputs": [
    {
     "name": "stdout",
     "output_type": "stream",
     "text": [
      "(211,)\n"
     ]
    }
   ],
   "source": [
    "all_times = np.round(epochs_run.times * 1000).astype(int)\n",
    "# print(all_times)\n",
    "print(np.shape(all_times))"
   ]
  },
  {
   "cell_type": "markdown",
   "metadata": {},
   "source": [
    "# Cross-validation"
   ]
  },
  {
   "cell_type": "code",
   "execution_count": 7,
   "metadata": {},
   "outputs": [],
   "source": [
    "from sklearn.model_selection import GridSearchCV\n",
    "from sklearn.metrics import classification_report"
   ]
  },
  {
   "cell_type": "code",
   "execution_count": 8,
   "metadata": {},
   "outputs": [
    {
     "data": {
      "text/plain": [
       "array([  0,   3,   7,  10,  13,  17,  20,  23,  27,  30,  33,  37,  40,\n",
       "        43,  47,  50,  53,  57,  60,  63,  67,  70,  73,  77,  80,  83,\n",
       "        87,  90,  93,  97, 100, 103, 107, 110, 113, 117, 120, 123, 127,\n",
       "       130, 133, 137, 140, 143, 147, 150])"
      ]
     },
     "execution_count": 8,
     "metadata": {},
     "output_type": "execute_result"
    }
   ],
   "source": [
    "cv_times = all_times[30:76]   # np.round(epochs_run.times * 1000).astype(int)\n",
    "cv_times"
   ]
  },
  {
   "cell_type": "code",
   "execution_count": 9,
   "metadata": {},
   "outputs": [],
   "source": [
    "tuned_parameters = [\n",
    "    {'C': [1, 10, 100, 1000], 'kernel': ['linear']},\n",
    "    {'C': [1, 10, 100, 1000], 'kernel': ['rbf'], 'gamma': [0.001, 0.0001]},\n",
    "    {'C': [1, 10, 100, 1000], 'kernel': ['poly'], 'degree': [2, 3], 'gamma': [0.001, 0.0001]},\n",
    "    {'C': [1, 10, 100, 1000], 'kernel': ['sigmoid'], 'gamma': [0.001, 0.0001]},\n",
    "]"
   ]
  },
  {
   "cell_type": "code",
   "execution_count": 10,
   "metadata": {},
   "outputs": [],
   "source": [
    "# Taking values for a single timepoint for now:\n",
    "this_t = 87\n",
    "X_right = epochs_df[epochs_df.index.get_level_values('condition').str.contains('right')].loc[pd.IndexSlice[:, :, this_t], :]\n",
    "X_left = epochs_df[epochs_df.index.get_level_values('condition').str.contains('left')].loc[pd.IndexSlice[:, :, this_t], :]\n",
    "X = np.concatenate((X_right, X_left))\n",
    "y = np.concatenate((np.repeat(1, len(X_right)), np.repeat(0, len(X_left))))"
   ]
  },
  {
   "cell_type": "code",
   "execution_count": 11,
   "metadata": {},
   "outputs": [],
   "source": [
    "from sklearn.model_selection import train_test_split\n",
    "X_train, X_test, y_train, y_test = train_test_split(X, y, test_size=0.2, random_state=0)"
   ]
  },
  {
   "cell_type": "code",
   "execution_count": 12,
   "metadata": {},
   "outputs": [
    {
     "data": {
      "text/plain": [
       "(805, 306)"
      ]
     },
     "execution_count": 12,
     "metadata": {},
     "output_type": "execute_result"
    }
   ],
   "source": [
    "np.shape(X_train)"
   ]
  },
  {
   "cell_type": "code",
   "execution_count": 13,
   "metadata": {},
   "outputs": [
    {
     "data": {
      "text/plain": [
       "(202, 306)"
      ]
     },
     "execution_count": 13,
     "metadata": {},
     "output_type": "execute_result"
    }
   ],
   "source": [
    "np.shape(X_test)"
   ]
  },
  {
   "cell_type": "code",
   "execution_count": 14,
   "metadata": {},
   "outputs": [
    {
     "name": "stdout",
     "output_type": "stream",
     "text": [
      "# Tuning hyper-parameters for precision\n",
      "\n"
     ]
    },
    {
     "name": "stderr",
     "output_type": "stream",
     "text": [
      "C:\\Users\\Egor\\Anaconda3\\envs\\mne\\lib\\site-packages\\sklearn\\metrics\\_classification.py:1272: UndefinedMetricWarning: Precision is ill-defined and being set to 0.0 in labels with no predicted samples. Use `zero_division` parameter to control this behavior.\n",
      "  _warn_prf(average, modifier, msg_start, len(result))\n",
      "C:\\Users\\Egor\\Anaconda3\\envs\\mne\\lib\\site-packages\\sklearn\\metrics\\_classification.py:1272: UndefinedMetricWarning: Precision is ill-defined and being set to 0.0 in labels with no predicted samples. Use `zero_division` parameter to control this behavior.\n",
      "  _warn_prf(average, modifier, msg_start, len(result))\n",
      "C:\\Users\\Egor\\Anaconda3\\envs\\mne\\lib\\site-packages\\sklearn\\metrics\\_classification.py:1272: UndefinedMetricWarning: Precision is ill-defined and being set to 0.0 in labels with no predicted samples. Use `zero_division` parameter to control this behavior.\n",
      "  _warn_prf(average, modifier, msg_start, len(result))\n",
      "C:\\Users\\Egor\\Anaconda3\\envs\\mne\\lib\\site-packages\\sklearn\\metrics\\_classification.py:1272: UndefinedMetricWarning: Precision is ill-defined and being set to 0.0 in labels with no predicted samples. Use `zero_division` parameter to control this behavior.\n",
      "  _warn_prf(average, modifier, msg_start, len(result))\n",
      "C:\\Users\\Egor\\Anaconda3\\envs\\mne\\lib\\site-packages\\sklearn\\metrics\\_classification.py:1272: UndefinedMetricWarning: Precision is ill-defined and being set to 0.0 in labels with no predicted samples. Use `zero_division` parameter to control this behavior.\n",
      "  _warn_prf(average, modifier, msg_start, len(result))\n",
      "C:\\Users\\Egor\\Anaconda3\\envs\\mne\\lib\\site-packages\\sklearn\\metrics\\_classification.py:1272: UndefinedMetricWarning: Precision is ill-defined and being set to 0.0 in labels with no predicted samples. Use `zero_division` parameter to control this behavior.\n",
      "  _warn_prf(average, modifier, msg_start, len(result))\n",
      "C:\\Users\\Egor\\Anaconda3\\envs\\mne\\lib\\site-packages\\sklearn\\metrics\\_classification.py:1272: UndefinedMetricWarning: Precision is ill-defined and being set to 0.0 in labels with no predicted samples. Use `zero_division` parameter to control this behavior.\n",
      "  _warn_prf(average, modifier, msg_start, len(result))\n",
      "C:\\Users\\Egor\\Anaconda3\\envs\\mne\\lib\\site-packages\\sklearn\\metrics\\_classification.py:1272: UndefinedMetricWarning: Precision is ill-defined and being set to 0.0 in labels with no predicted samples. Use `zero_division` parameter to control this behavior.\n",
      "  _warn_prf(average, modifier, msg_start, len(result))\n",
      "C:\\Users\\Egor\\Anaconda3\\envs\\mne\\lib\\site-packages\\sklearn\\metrics\\_classification.py:1272: UndefinedMetricWarning: Precision is ill-defined and being set to 0.0 in labels with no predicted samples. Use `zero_division` parameter to control this behavior.\n",
      "  _warn_prf(average, modifier, msg_start, len(result))\n",
      "C:\\Users\\Egor\\Anaconda3\\envs\\mne\\lib\\site-packages\\sklearn\\metrics\\_classification.py:1272: UndefinedMetricWarning: Precision is ill-defined and being set to 0.0 in labels with no predicted samples. Use `zero_division` parameter to control this behavior.\n",
      "  _warn_prf(average, modifier, msg_start, len(result))\n",
      "C:\\Users\\Egor\\Anaconda3\\envs\\mne\\lib\\site-packages\\sklearn\\metrics\\_classification.py:1272: UndefinedMetricWarning: Precision is ill-defined and being set to 0.0 in labels with no predicted samples. Use `zero_division` parameter to control this behavior.\n",
      "  _warn_prf(average, modifier, msg_start, len(result))\n",
      "C:\\Users\\Egor\\Anaconda3\\envs\\mne\\lib\\site-packages\\sklearn\\metrics\\_classification.py:1272: UndefinedMetricWarning: Precision is ill-defined and being set to 0.0 in labels with no predicted samples. Use `zero_division` parameter to control this behavior.\n",
      "  _warn_prf(average, modifier, msg_start, len(result))\n",
      "C:\\Users\\Egor\\Anaconda3\\envs\\mne\\lib\\site-packages\\sklearn\\metrics\\_classification.py:1272: UndefinedMetricWarning: Precision is ill-defined and being set to 0.0 in labels with no predicted samples. Use `zero_division` parameter to control this behavior.\n",
      "  _warn_prf(average, modifier, msg_start, len(result))\n",
      "C:\\Users\\Egor\\Anaconda3\\envs\\mne\\lib\\site-packages\\sklearn\\metrics\\_classification.py:1272: UndefinedMetricWarning: Precision is ill-defined and being set to 0.0 in labels with no predicted samples. Use `zero_division` parameter to control this behavior.\n",
      "  _warn_prf(average, modifier, msg_start, len(result))\n",
      "C:\\Users\\Egor\\Anaconda3\\envs\\mne\\lib\\site-packages\\sklearn\\metrics\\_classification.py:1272: UndefinedMetricWarning: Precision is ill-defined and being set to 0.0 in labels with no predicted samples. Use `zero_division` parameter to control this behavior.\n",
      "  _warn_prf(average, modifier, msg_start, len(result))\n",
      "C:\\Users\\Egor\\Anaconda3\\envs\\mne\\lib\\site-packages\\sklearn\\metrics\\_classification.py:1272: UndefinedMetricWarning: Precision is ill-defined and being set to 0.0 in labels with no predicted samples. Use `zero_division` parameter to control this behavior.\n",
      "  _warn_prf(average, modifier, msg_start, len(result))\n",
      "C:\\Users\\Egor\\Anaconda3\\envs\\mne\\lib\\site-packages\\sklearn\\metrics\\_classification.py:1272: UndefinedMetricWarning: Precision is ill-defined and being set to 0.0 in labels with no predicted samples. Use `zero_division` parameter to control this behavior.\n",
      "  _warn_prf(average, modifier, msg_start, len(result))\n",
      "C:\\Users\\Egor\\Anaconda3\\envs\\mne\\lib\\site-packages\\sklearn\\metrics\\_classification.py:1272: UndefinedMetricWarning: Precision is ill-defined and being set to 0.0 in labels with no predicted samples. Use `zero_division` parameter to control this behavior.\n",
      "  _warn_prf(average, modifier, msg_start, len(result))\n",
      "C:\\Users\\Egor\\Anaconda3\\envs\\mne\\lib\\site-packages\\sklearn\\metrics\\_classification.py:1272: UndefinedMetricWarning: Precision is ill-defined and being set to 0.0 in labels with no predicted samples. Use `zero_division` parameter to control this behavior.\n",
      "  _warn_prf(average, modifier, msg_start, len(result))\n",
      "C:\\Users\\Egor\\Anaconda3\\envs\\mne\\lib\\site-packages\\sklearn\\metrics\\_classification.py:1272: UndefinedMetricWarning: Precision is ill-defined and being set to 0.0 in labels with no predicted samples. Use `zero_division` parameter to control this behavior.\n",
      "  _warn_prf(average, modifier, msg_start, len(result))\n",
      "C:\\Users\\Egor\\Anaconda3\\envs\\mne\\lib\\site-packages\\sklearn\\metrics\\_classification.py:1272: UndefinedMetricWarning: Precision is ill-defined and being set to 0.0 in labels with no predicted samples. Use `zero_division` parameter to control this behavior.\n",
      "  _warn_prf(average, modifier, msg_start, len(result))\n",
      "C:\\Users\\Egor\\Anaconda3\\envs\\mne\\lib\\site-packages\\sklearn\\metrics\\_classification.py:1272: UndefinedMetricWarning: Precision is ill-defined and being set to 0.0 in labels with no predicted samples. Use `zero_division` parameter to control this behavior.\n",
      "  _warn_prf(average, modifier, msg_start, len(result))\n",
      "C:\\Users\\Egor\\Anaconda3\\envs\\mne\\lib\\site-packages\\sklearn\\metrics\\_classification.py:1272: UndefinedMetricWarning: Precision is ill-defined and being set to 0.0 in labels with no predicted samples. Use `zero_division` parameter to control this behavior.\n",
      "  _warn_prf(average, modifier, msg_start, len(result))\n",
      "C:\\Users\\Egor\\Anaconda3\\envs\\mne\\lib\\site-packages\\sklearn\\metrics\\_classification.py:1272: UndefinedMetricWarning: Precision is ill-defined and being set to 0.0 in labels with no predicted samples. Use `zero_division` parameter to control this behavior.\n",
      "  _warn_prf(average, modifier, msg_start, len(result))\n",
      "C:\\Users\\Egor\\Anaconda3\\envs\\mne\\lib\\site-packages\\sklearn\\metrics\\_classification.py:1272: UndefinedMetricWarning: Precision is ill-defined and being set to 0.0 in labels with no predicted samples. Use `zero_division` parameter to control this behavior.\n",
      "  _warn_prf(average, modifier, msg_start, len(result))\n"
     ]
    },
    {
     "name": "stdout",
     "output_type": "stream",
     "text": [
      "Best parameters set found on development set:\n",
      "\n",
      "{'C': 1, 'gamma': 0.001, 'kernel': 'sigmoid'}\n",
      "\n",
      "Grid scores on development set:\n",
      "\n",
      "0.517 (+/-0.058) for {'C': 1, 'kernel': 'linear'}\n",
      "0.502 (+/-0.048) for {'C': 10, 'kernel': 'linear'}\n",
      "0.505 (+/-0.076) for {'C': 100, 'kernel': 'linear'}\n",
      "0.507 (+/-0.077) for {'C': 1000, 'kernel': 'linear'}\n",
      "0.592 (+/-0.058) for {'C': 1, 'gamma': 0.001, 'kernel': 'rbf'}\n",
      "0.571 (+/-0.029) for {'C': 1, 'gamma': 0.0001, 'kernel': 'rbf'}\n",
      "0.561 (+/-0.066) for {'C': 10, 'gamma': 0.001, 'kernel': 'rbf'}\n",
      "0.583 (+/-0.051) for {'C': 10, 'gamma': 0.0001, 'kernel': 'rbf'}\n",
      "0.559 (+/-0.048) for {'C': 100, 'gamma': 0.001, 'kernel': 'rbf'}\n",
      "0.588 (+/-0.047) for {'C': 100, 'gamma': 0.0001, 'kernel': 'rbf'}\n",
      "0.559 (+/-0.048) for {'C': 1000, 'gamma': 0.001, 'kernel': 'rbf'}\n",
      "0.555 (+/-0.063) for {'C': 1000, 'gamma': 0.0001, 'kernel': 'rbf'}\n",
      "0.556 (+/-0.046) for {'C': 1, 'degree': 2, 'gamma': 0.001, 'kernel': 'poly'}\n",
      "0.253 (+/-0.003) for {'C': 1, 'degree': 2, 'gamma': 0.0001, 'kernel': 'poly'}\n",
      "0.526 (+/-0.052) for {'C': 1, 'degree': 3, 'gamma': 0.001, 'kernel': 'poly'}\n",
      "0.253 (+/-0.003) for {'C': 1, 'degree': 3, 'gamma': 0.0001, 'kernel': 'poly'}\n",
      "0.540 (+/-0.052) for {'C': 10, 'degree': 2, 'gamma': 0.001, 'kernel': 'poly'}\n",
      "0.253 (+/-0.003) for {'C': 10, 'degree': 2, 'gamma': 0.0001, 'kernel': 'poly'}\n",
      "0.520 (+/-0.073) for {'C': 10, 'degree': 3, 'gamma': 0.001, 'kernel': 'poly'}\n",
      "0.253 (+/-0.003) for {'C': 10, 'degree': 3, 'gamma': 0.0001, 'kernel': 'poly'}\n",
      "0.523 (+/-0.055) for {'C': 100, 'degree': 2, 'gamma': 0.001, 'kernel': 'poly'}\n",
      "0.556 (+/-0.046) for {'C': 100, 'degree': 2, 'gamma': 0.0001, 'kernel': 'poly'}\n",
      "0.510 (+/-0.068) for {'C': 100, 'degree': 3, 'gamma': 0.001, 'kernel': 'poly'}\n",
      "0.253 (+/-0.003) for {'C': 100, 'degree': 3, 'gamma': 0.0001, 'kernel': 'poly'}\n",
      "0.523 (+/-0.055) for {'C': 1000, 'degree': 2, 'gamma': 0.001, 'kernel': 'poly'}\n",
      "0.540 (+/-0.052) for {'C': 1000, 'degree': 2, 'gamma': 0.0001, 'kernel': 'poly'}\n",
      "0.517 (+/-0.079) for {'C': 1000, 'degree': 3, 'gamma': 0.001, 'kernel': 'poly'}\n",
      "0.526 (+/-0.052) for {'C': 1000, 'degree': 3, 'gamma': 0.0001, 'kernel': 'poly'}\n",
      "0.607 (+/-0.068) for {'C': 1, 'gamma': 0.001, 'kernel': 'sigmoid'}\n",
      "0.570 (+/-0.071) for {'C': 1, 'gamma': 0.0001, 'kernel': 'sigmoid'}\n",
      "0.549 (+/-0.096) for {'C': 10, 'gamma': 0.001, 'kernel': 'sigmoid'}\n",
      "0.590 (+/-0.054) for {'C': 10, 'gamma': 0.0001, 'kernel': 'sigmoid'}\n",
      "0.533 (+/-0.076) for {'C': 100, 'gamma': 0.001, 'kernel': 'sigmoid'}\n",
      "0.595 (+/-0.051) for {'C': 100, 'gamma': 0.0001, 'kernel': 'sigmoid'}\n",
      "0.536 (+/-0.072) for {'C': 1000, 'gamma': 0.001, 'kernel': 'sigmoid'}\n",
      "0.563 (+/-0.056) for {'C': 1000, 'gamma': 0.0001, 'kernel': 'sigmoid'}\n",
      "\n",
      "Detailed classification report:\n",
      "\n",
      "The model is trained on the full development set.\n",
      "The scores are computed on the full evaluation set.\n",
      "\n",
      "              precision    recall  f1-score   support\n",
      "\n",
      "           0       0.58      0.54      0.56       104\n",
      "           1       0.55      0.59      0.57        98\n",
      "\n",
      "    accuracy                           0.56       202\n",
      "   macro avg       0.57      0.57      0.56       202\n",
      "weighted avg       0.57      0.56      0.56       202\n",
      "\n",
      "\n",
      "# Tuning hyper-parameters for recall\n",
      "\n",
      "Best parameters set found on development set:\n",
      "\n",
      "{'C': 1, 'gamma': 0.001, 'kernel': 'sigmoid'}\n",
      "\n",
      "Grid scores on development set:\n",
      "\n",
      "0.517 (+/-0.057) for {'C': 1, 'kernel': 'linear'}\n",
      "0.502 (+/-0.046) for {'C': 10, 'kernel': 'linear'}\n",
      "0.505 (+/-0.075) for {'C': 100, 'kernel': 'linear'}\n",
      "0.507 (+/-0.076) for {'C': 1000, 'kernel': 'linear'}\n",
      "0.591 (+/-0.058) for {'C': 1, 'gamma': 0.001, 'kernel': 'rbf'}\n",
      "0.570 (+/-0.029) for {'C': 1, 'gamma': 0.0001, 'kernel': 'rbf'}\n",
      "0.560 (+/-0.066) for {'C': 10, 'gamma': 0.001, 'kernel': 'rbf'}\n",
      "0.583 (+/-0.051) for {'C': 10, 'gamma': 0.0001, 'kernel': 'rbf'}\n",
      "0.559 (+/-0.048) for {'C': 100, 'gamma': 0.001, 'kernel': 'rbf'}\n",
      "0.587 (+/-0.047) for {'C': 100, 'gamma': 0.0001, 'kernel': 'rbf'}\n",
      "0.559 (+/-0.048) for {'C': 1000, 'gamma': 0.001, 'kernel': 'rbf'}\n",
      "0.555 (+/-0.063) for {'C': 1000, 'gamma': 0.0001, 'kernel': 'rbf'}\n",
      "0.551 (+/-0.048) for {'C': 1, 'degree': 2, 'gamma': 0.001, 'kernel': 'poly'}\n",
      "0.500 (+/-0.000) for {'C': 1, 'degree': 2, 'gamma': 0.0001, 'kernel': 'poly'}\n",
      "0.524 (+/-0.050) for {'C': 1, 'degree': 3, 'gamma': 0.001, 'kernel': 'poly'}\n",
      "0.500 (+/-0.000) for {'C': 1, 'degree': 3, 'gamma': 0.0001, 'kernel': 'poly'}\n",
      "0.540 (+/-0.052) for {'C': 10, 'degree': 2, 'gamma': 0.001, 'kernel': 'poly'}\n",
      "0.500 (+/-0.000) for {'C': 10, 'degree': 2, 'gamma': 0.0001, 'kernel': 'poly'}\n",
      "0.520 (+/-0.073) for {'C': 10, 'degree': 3, 'gamma': 0.001, 'kernel': 'poly'}\n",
      "0.500 (+/-0.000) for {'C': 10, 'degree': 3, 'gamma': 0.0001, 'kernel': 'poly'}\n",
      "0.523 (+/-0.055) for {'C': 100, 'degree': 2, 'gamma': 0.001, 'kernel': 'poly'}\n",
      "0.551 (+/-0.048) for {'C': 100, 'degree': 2, 'gamma': 0.0001, 'kernel': 'poly'}\n",
      "0.510 (+/-0.068) for {'C': 100, 'degree': 3, 'gamma': 0.001, 'kernel': 'poly'}\n",
      "0.500 (+/-0.000) for {'C': 100, 'degree': 3, 'gamma': 0.0001, 'kernel': 'poly'}\n",
      "0.523 (+/-0.055) for {'C': 1000, 'degree': 2, 'gamma': 0.001, 'kernel': 'poly'}\n",
      "0.540 (+/-0.052) for {'C': 1000, 'degree': 2, 'gamma': 0.0001, 'kernel': 'poly'}\n",
      "0.517 (+/-0.078) for {'C': 1000, 'degree': 3, 'gamma': 0.001, 'kernel': 'poly'}\n",
      "0.524 (+/-0.050) for {'C': 1000, 'degree': 3, 'gamma': 0.0001, 'kernel': 'poly'}\n",
      "0.606 (+/-0.067) for {'C': 1, 'gamma': 0.001, 'kernel': 'sigmoid'}\n",
      "0.555 (+/-0.051) for {'C': 1, 'gamma': 0.0001, 'kernel': 'sigmoid'}\n",
      "0.548 (+/-0.093) for {'C': 10, 'gamma': 0.001, 'kernel': 'sigmoid'}\n",
      "0.589 (+/-0.054) for {'C': 10, 'gamma': 0.0001, 'kernel': 'sigmoid'}\n",
      "0.533 (+/-0.076) for {'C': 100, 'gamma': 0.001, 'kernel': 'sigmoid'}\n",
      "0.595 (+/-0.051) for {'C': 100, 'gamma': 0.0001, 'kernel': 'sigmoid'}\n",
      "0.536 (+/-0.071) for {'C': 1000, 'gamma': 0.001, 'kernel': 'sigmoid'}\n",
      "0.563 (+/-0.055) for {'C': 1000, 'gamma': 0.0001, 'kernel': 'sigmoid'}\n",
      "\n",
      "Detailed classification report:\n",
      "\n",
      "The model is trained on the full development set.\n",
      "The scores are computed on the full evaluation set.\n",
      "\n",
      "              precision    recall  f1-score   support\n",
      "\n",
      "           0       0.58      0.54      0.56       104\n",
      "           1       0.55      0.59      0.57        98\n",
      "\n",
      "    accuracy                           0.56       202\n",
      "   macro avg       0.57      0.57      0.56       202\n",
      "weighted avg       0.57      0.56      0.56       202\n",
      "\n",
      "\n"
     ]
    }
   ],
   "source": [
    "scores = ['precision', 'recall']\n",
    "\n",
    "for score in scores:\n",
    "    print(\"# Tuning hyper-parameters for %s\" % score)\n",
    "    print()\n",
    "\n",
    "    clf = GridSearchCV(\n",
    "        svm.SVC(cache_size=2000), tuned_parameters, scoring='%s_macro' % score\n",
    "    )\n",
    "    clf.fit(X_train, y_train)\n",
    "\n",
    "    print(\"Best parameters set found on development set:\")\n",
    "    print()\n",
    "    print(clf.best_params_)\n",
    "    print()\n",
    "    print(\"Grid scores on development set:\")\n",
    "    print()\n",
    "    means = clf.cv_results_['mean_test_score']\n",
    "    stds = clf.cv_results_['std_test_score']\n",
    "    for mean, std, params in zip(means, stds, clf.cv_results_['params']):\n",
    "        print(\"%0.3f (+/-%0.03f) for %r\"\n",
    "              % (mean, std * 2, params))\n",
    "    print()\n",
    "\n",
    "    print(\"Detailed classification report:\")\n",
    "    print()\n",
    "    print(\"The model is trained on the full development set.\")\n",
    "    print(\"The scores are computed on the full evaluation set.\")\n",
    "    print()\n",
    "    y_true, y_pred = y_test, clf.predict(X_test)\n",
    "    print(classification_report(y_true, y_pred))\n",
    "    print()"
   ]
  },
  {
   "cell_type": "code",
   "execution_count": 9,
   "metadata": {},
   "outputs": [],
   "source": [
    "tuned_parameters = [\n",
    "    {'C': [0.1, 1, 10], 'kernel': ['rbf'], 'gamma': [0.1, 0.01, 0.001},\n",
    "    {'C': [0.1, 1, 10], 'kernel': ['sigmoid'], 'gamma': [0.1, 0.01, 0.001]},\n",
    "]"
   ]
  },
  {
   "cell_type": "code",
   "execution_count": 14,
   "metadata": {},
   "outputs": [
    {
     "name": "stdout",
     "output_type": "stream",
     "text": [
      "# Tuning hyper-parameters for precision\n",
      "\n"
     ]
    },
    {
     "name": "stderr",
     "output_type": "stream",
     "text": [
      "C:\\Users\\Egor\\Anaconda3\\envs\\mne\\lib\\site-packages\\sklearn\\metrics\\_classification.py:1272: UndefinedMetricWarning: Precision is ill-defined and being set to 0.0 in labels with no predicted samples. Use `zero_division` parameter to control this behavior.\n",
      "  _warn_prf(average, modifier, msg_start, len(result))\n",
      "C:\\Users\\Egor\\Anaconda3\\envs\\mne\\lib\\site-packages\\sklearn\\metrics\\_classification.py:1272: UndefinedMetricWarning: Precision is ill-defined and being set to 0.0 in labels with no predicted samples. Use `zero_division` parameter to control this behavior.\n",
      "  _warn_prf(average, modifier, msg_start, len(result))\n",
      "C:\\Users\\Egor\\Anaconda3\\envs\\mne\\lib\\site-packages\\sklearn\\metrics\\_classification.py:1272: UndefinedMetricWarning: Precision is ill-defined and being set to 0.0 in labels with no predicted samples. Use `zero_division` parameter to control this behavior.\n",
      "  _warn_prf(average, modifier, msg_start, len(result))\n",
      "C:\\Users\\Egor\\Anaconda3\\envs\\mne\\lib\\site-packages\\sklearn\\metrics\\_classification.py:1272: UndefinedMetricWarning: Precision is ill-defined and being set to 0.0 in labels with no predicted samples. Use `zero_division` parameter to control this behavior.\n",
      "  _warn_prf(average, modifier, msg_start, len(result))\n",
      "C:\\Users\\Egor\\Anaconda3\\envs\\mne\\lib\\site-packages\\sklearn\\metrics\\_classification.py:1272: UndefinedMetricWarning: Precision is ill-defined and being set to 0.0 in labels with no predicted samples. Use `zero_division` parameter to control this behavior.\n",
      "  _warn_prf(average, modifier, msg_start, len(result))\n",
      "C:\\Users\\Egor\\Anaconda3\\envs\\mne\\lib\\site-packages\\sklearn\\metrics\\_classification.py:1272: UndefinedMetricWarning: Precision is ill-defined and being set to 0.0 in labels with no predicted samples. Use `zero_division` parameter to control this behavior.\n",
      "  _warn_prf(average, modifier, msg_start, len(result))\n",
      "C:\\Users\\Egor\\Anaconda3\\envs\\mne\\lib\\site-packages\\sklearn\\metrics\\_classification.py:1272: UndefinedMetricWarning: Precision is ill-defined and being set to 0.0 in labels with no predicted samples. Use `zero_division` parameter to control this behavior.\n",
      "  _warn_prf(average, modifier, msg_start, len(result))\n",
      "C:\\Users\\Egor\\Anaconda3\\envs\\mne\\lib\\site-packages\\sklearn\\metrics\\_classification.py:1272: UndefinedMetricWarning: Precision is ill-defined and being set to 0.0 in labels with no predicted samples. Use `zero_division` parameter to control this behavior.\n",
      "  _warn_prf(average, modifier, msg_start, len(result))\n",
      "C:\\Users\\Egor\\Anaconda3\\envs\\mne\\lib\\site-packages\\sklearn\\metrics\\_classification.py:1272: UndefinedMetricWarning: Precision is ill-defined and being set to 0.0 in labels with no predicted samples. Use `zero_division` parameter to control this behavior.\n",
      "  _warn_prf(average, modifier, msg_start, len(result))\n",
      "C:\\Users\\Egor\\Anaconda3\\envs\\mne\\lib\\site-packages\\sklearn\\metrics\\_classification.py:1272: UndefinedMetricWarning: Precision is ill-defined and being set to 0.0 in labels with no predicted samples. Use `zero_division` parameter to control this behavior.\n",
      "  _warn_prf(average, modifier, msg_start, len(result))\n",
      "C:\\Users\\Egor\\Anaconda3\\envs\\mne\\lib\\site-packages\\sklearn\\metrics\\_classification.py:1272: UndefinedMetricWarning: Precision is ill-defined and being set to 0.0 in labels with no predicted samples. Use `zero_division` parameter to control this behavior.\n",
      "  _warn_prf(average, modifier, msg_start, len(result))\n",
      "C:\\Users\\Egor\\Anaconda3\\envs\\mne\\lib\\site-packages\\sklearn\\metrics\\_classification.py:1272: UndefinedMetricWarning: Precision is ill-defined and being set to 0.0 in labels with no predicted samples. Use `zero_division` parameter to control this behavior.\n",
      "  _warn_prf(average, modifier, msg_start, len(result))\n",
      "C:\\Users\\Egor\\Anaconda3\\envs\\mne\\lib\\site-packages\\sklearn\\metrics\\_classification.py:1272: UndefinedMetricWarning: Precision is ill-defined and being set to 0.0 in labels with no predicted samples. Use `zero_division` parameter to control this behavior.\n",
      "  _warn_prf(average, modifier, msg_start, len(result))\n",
      "C:\\Users\\Egor\\Anaconda3\\envs\\mne\\lib\\site-packages\\sklearn\\metrics\\_classification.py:1272: UndefinedMetricWarning: Precision is ill-defined and being set to 0.0 in labels with no predicted samples. Use `zero_division` parameter to control this behavior.\n",
      "  _warn_prf(average, modifier, msg_start, len(result))\n",
      "C:\\Users\\Egor\\Anaconda3\\envs\\mne\\lib\\site-packages\\sklearn\\metrics\\_classification.py:1272: UndefinedMetricWarning: Precision is ill-defined and being set to 0.0 in labels with no predicted samples. Use `zero_division` parameter to control this behavior.\n",
      "  _warn_prf(average, modifier, msg_start, len(result))\n",
      "C:\\Users\\Egor\\Anaconda3\\envs\\mne\\lib\\site-packages\\sklearn\\metrics\\_classification.py:1272: UndefinedMetricWarning: Precision is ill-defined and being set to 0.0 in labels with no predicted samples. Use `zero_division` parameter to control this behavior.\n",
      "  _warn_prf(average, modifier, msg_start, len(result))\n",
      "C:\\Users\\Egor\\Anaconda3\\envs\\mne\\lib\\site-packages\\sklearn\\metrics\\_classification.py:1272: UndefinedMetricWarning: Precision is ill-defined and being set to 0.0 in labels with no predicted samples. Use `zero_division` parameter to control this behavior.\n",
      "  _warn_prf(average, modifier, msg_start, len(result))\n",
      "C:\\Users\\Egor\\Anaconda3\\envs\\mne\\lib\\site-packages\\sklearn\\metrics\\_classification.py:1272: UndefinedMetricWarning: Precision is ill-defined and being set to 0.0 in labels with no predicted samples. Use `zero_division` parameter to control this behavior.\n",
      "  _warn_prf(average, modifier, msg_start, len(result))\n",
      "C:\\Users\\Egor\\Anaconda3\\envs\\mne\\lib\\site-packages\\sklearn\\metrics\\_classification.py:1272: UndefinedMetricWarning: Precision is ill-defined and being set to 0.0 in labels with no predicted samples. Use `zero_division` parameter to control this behavior.\n",
      "  _warn_prf(average, modifier, msg_start, len(result))\n",
      "C:\\Users\\Egor\\Anaconda3\\envs\\mne\\lib\\site-packages\\sklearn\\metrics\\_classification.py:1272: UndefinedMetricWarning: Precision is ill-defined and being set to 0.0 in labels with no predicted samples. Use `zero_division` parameter to control this behavior.\n",
      "  _warn_prf(average, modifier, msg_start, len(result))\n",
      "C:\\Users\\Egor\\Anaconda3\\envs\\mne\\lib\\site-packages\\sklearn\\metrics\\_classification.py:1272: UndefinedMetricWarning: Precision is ill-defined and being set to 0.0 in labels with no predicted samples. Use `zero_division` parameter to control this behavior.\n",
      "  _warn_prf(average, modifier, msg_start, len(result))\n",
      "C:\\Users\\Egor\\Anaconda3\\envs\\mne\\lib\\site-packages\\sklearn\\metrics\\_classification.py:1272: UndefinedMetricWarning: Precision is ill-defined and being set to 0.0 in labels with no predicted samples. Use `zero_division` parameter to control this behavior.\n",
      "  _warn_prf(average, modifier, msg_start, len(result))\n",
      "C:\\Users\\Egor\\Anaconda3\\envs\\mne\\lib\\site-packages\\sklearn\\metrics\\_classification.py:1272: UndefinedMetricWarning: Precision is ill-defined and being set to 0.0 in labels with no predicted samples. Use `zero_division` parameter to control this behavior.\n",
      "  _warn_prf(average, modifier, msg_start, len(result))\n",
      "C:\\Users\\Egor\\Anaconda3\\envs\\mne\\lib\\site-packages\\sklearn\\metrics\\_classification.py:1272: UndefinedMetricWarning: Precision is ill-defined and being set to 0.0 in labels with no predicted samples. Use `zero_division` parameter to control this behavior.\n",
      "  _warn_prf(average, modifier, msg_start, len(result))\n",
      "C:\\Users\\Egor\\Anaconda3\\envs\\mne\\lib\\site-packages\\sklearn\\metrics\\_classification.py:1272: UndefinedMetricWarning: Precision is ill-defined and being set to 0.0 in labels with no predicted samples. Use `zero_division` parameter to control this behavior.\n",
      "  _warn_prf(average, modifier, msg_start, len(result))\n"
     ]
    },
    {
     "name": "stdout",
     "output_type": "stream",
     "text": [
      "Best parameters set found on development set:\n",
      "\n",
      "{'C': 1, 'gamma': 0.001, 'kernel': 'sigmoid'}\n",
      "\n",
      "Grid scores on development set:\n",
      "\n",
      "0.517 (+/-0.058) for {'C': 1, 'kernel': 'linear'}\n",
      "0.502 (+/-0.048) for {'C': 10, 'kernel': 'linear'}\n",
      "0.505 (+/-0.076) for {'C': 100, 'kernel': 'linear'}\n",
      "0.507 (+/-0.077) for {'C': 1000, 'kernel': 'linear'}\n",
      "0.592 (+/-0.058) for {'C': 1, 'gamma': 0.001, 'kernel': 'rbf'}\n",
      "0.571 (+/-0.029) for {'C': 1, 'gamma': 0.0001, 'kernel': 'rbf'}\n",
      "0.561 (+/-0.066) for {'C': 10, 'gamma': 0.001, 'kernel': 'rbf'}\n",
      "0.583 (+/-0.051) for {'C': 10, 'gamma': 0.0001, 'kernel': 'rbf'}\n",
      "0.559 (+/-0.048) for {'C': 100, 'gamma': 0.001, 'kernel': 'rbf'}\n",
      "0.588 (+/-0.047) for {'C': 100, 'gamma': 0.0001, 'kernel': 'rbf'}\n",
      "0.559 (+/-0.048) for {'C': 1000, 'gamma': 0.001, 'kernel': 'rbf'}\n",
      "0.555 (+/-0.063) for {'C': 1000, 'gamma': 0.0001, 'kernel': 'rbf'}\n",
      "0.556 (+/-0.046) for {'C': 1, 'degree': 2, 'gamma': 0.001, 'kernel': 'poly'}\n",
      "0.253 (+/-0.003) for {'C': 1, 'degree': 2, 'gamma': 0.0001, 'kernel': 'poly'}\n",
      "0.526 (+/-0.052) for {'C': 1, 'degree': 3, 'gamma': 0.001, 'kernel': 'poly'}\n",
      "0.253 (+/-0.003) for {'C': 1, 'degree': 3, 'gamma': 0.0001, 'kernel': 'poly'}\n",
      "0.540 (+/-0.052) for {'C': 10, 'degree': 2, 'gamma': 0.001, 'kernel': 'poly'}\n",
      "0.253 (+/-0.003) for {'C': 10, 'degree': 2, 'gamma': 0.0001, 'kernel': 'poly'}\n",
      "0.520 (+/-0.073) for {'C': 10, 'degree': 3, 'gamma': 0.001, 'kernel': 'poly'}\n",
      "0.253 (+/-0.003) for {'C': 10, 'degree': 3, 'gamma': 0.0001, 'kernel': 'poly'}\n",
      "0.523 (+/-0.055) for {'C': 100, 'degree': 2, 'gamma': 0.001, 'kernel': 'poly'}\n",
      "0.556 (+/-0.046) for {'C': 100, 'degree': 2, 'gamma': 0.0001, 'kernel': 'poly'}\n",
      "0.510 (+/-0.068) for {'C': 100, 'degree': 3, 'gamma': 0.001, 'kernel': 'poly'}\n",
      "0.253 (+/-0.003) for {'C': 100, 'degree': 3, 'gamma': 0.0001, 'kernel': 'poly'}\n",
      "0.523 (+/-0.055) for {'C': 1000, 'degree': 2, 'gamma': 0.001, 'kernel': 'poly'}\n",
      "0.540 (+/-0.052) for {'C': 1000, 'degree': 2, 'gamma': 0.0001, 'kernel': 'poly'}\n",
      "0.517 (+/-0.079) for {'C': 1000, 'degree': 3, 'gamma': 0.001, 'kernel': 'poly'}\n",
      "0.526 (+/-0.052) for {'C': 1000, 'degree': 3, 'gamma': 0.0001, 'kernel': 'poly'}\n",
      "0.607 (+/-0.068) for {'C': 1, 'gamma': 0.001, 'kernel': 'sigmoid'}\n",
      "0.570 (+/-0.071) for {'C': 1, 'gamma': 0.0001, 'kernel': 'sigmoid'}\n",
      "0.549 (+/-0.096) for {'C': 10, 'gamma': 0.001, 'kernel': 'sigmoid'}\n",
      "0.590 (+/-0.054) for {'C': 10, 'gamma': 0.0001, 'kernel': 'sigmoid'}\n",
      "0.533 (+/-0.076) for {'C': 100, 'gamma': 0.001, 'kernel': 'sigmoid'}\n",
      "0.595 (+/-0.051) for {'C': 100, 'gamma': 0.0001, 'kernel': 'sigmoid'}\n",
      "0.536 (+/-0.072) for {'C': 1000, 'gamma': 0.001, 'kernel': 'sigmoid'}\n",
      "0.563 (+/-0.056) for {'C': 1000, 'gamma': 0.0001, 'kernel': 'sigmoid'}\n",
      "\n",
      "Detailed classification report:\n",
      "\n",
      "The model is trained on the full development set.\n",
      "The scores are computed on the full evaluation set.\n",
      "\n",
      "              precision    recall  f1-score   support\n",
      "\n",
      "           0       0.58      0.54      0.56       104\n",
      "           1       0.55      0.59      0.57        98\n",
      "\n",
      "    accuracy                           0.56       202\n",
      "   macro avg       0.57      0.57      0.56       202\n",
      "weighted avg       0.57      0.56      0.56       202\n",
      "\n",
      "\n",
      "# Tuning hyper-parameters for recall\n",
      "\n",
      "Best parameters set found on development set:\n",
      "\n",
      "{'C': 1, 'gamma': 0.001, 'kernel': 'sigmoid'}\n",
      "\n",
      "Grid scores on development set:\n",
      "\n",
      "0.517 (+/-0.057) for {'C': 1, 'kernel': 'linear'}\n",
      "0.502 (+/-0.046) for {'C': 10, 'kernel': 'linear'}\n",
      "0.505 (+/-0.075) for {'C': 100, 'kernel': 'linear'}\n",
      "0.507 (+/-0.076) for {'C': 1000, 'kernel': 'linear'}\n",
      "0.591 (+/-0.058) for {'C': 1, 'gamma': 0.001, 'kernel': 'rbf'}\n",
      "0.570 (+/-0.029) for {'C': 1, 'gamma': 0.0001, 'kernel': 'rbf'}\n",
      "0.560 (+/-0.066) for {'C': 10, 'gamma': 0.001, 'kernel': 'rbf'}\n",
      "0.583 (+/-0.051) for {'C': 10, 'gamma': 0.0001, 'kernel': 'rbf'}\n",
      "0.559 (+/-0.048) for {'C': 100, 'gamma': 0.001, 'kernel': 'rbf'}\n",
      "0.587 (+/-0.047) for {'C': 100, 'gamma': 0.0001, 'kernel': 'rbf'}\n",
      "0.559 (+/-0.048) for {'C': 1000, 'gamma': 0.001, 'kernel': 'rbf'}\n",
      "0.555 (+/-0.063) for {'C': 1000, 'gamma': 0.0001, 'kernel': 'rbf'}\n",
      "0.551 (+/-0.048) for {'C': 1, 'degree': 2, 'gamma': 0.001, 'kernel': 'poly'}\n",
      "0.500 (+/-0.000) for {'C': 1, 'degree': 2, 'gamma': 0.0001, 'kernel': 'poly'}\n",
      "0.524 (+/-0.050) for {'C': 1, 'degree': 3, 'gamma': 0.001, 'kernel': 'poly'}\n",
      "0.500 (+/-0.000) for {'C': 1, 'degree': 3, 'gamma': 0.0001, 'kernel': 'poly'}\n",
      "0.540 (+/-0.052) for {'C': 10, 'degree': 2, 'gamma': 0.001, 'kernel': 'poly'}\n",
      "0.500 (+/-0.000) for {'C': 10, 'degree': 2, 'gamma': 0.0001, 'kernel': 'poly'}\n",
      "0.520 (+/-0.073) for {'C': 10, 'degree': 3, 'gamma': 0.001, 'kernel': 'poly'}\n",
      "0.500 (+/-0.000) for {'C': 10, 'degree': 3, 'gamma': 0.0001, 'kernel': 'poly'}\n",
      "0.523 (+/-0.055) for {'C': 100, 'degree': 2, 'gamma': 0.001, 'kernel': 'poly'}\n",
      "0.551 (+/-0.048) for {'C': 100, 'degree': 2, 'gamma': 0.0001, 'kernel': 'poly'}\n",
      "0.510 (+/-0.068) for {'C': 100, 'degree': 3, 'gamma': 0.001, 'kernel': 'poly'}\n",
      "0.500 (+/-0.000) for {'C': 100, 'degree': 3, 'gamma': 0.0001, 'kernel': 'poly'}\n",
      "0.523 (+/-0.055) for {'C': 1000, 'degree': 2, 'gamma': 0.001, 'kernel': 'poly'}\n",
      "0.540 (+/-0.052) for {'C': 1000, 'degree': 2, 'gamma': 0.0001, 'kernel': 'poly'}\n",
      "0.517 (+/-0.078) for {'C': 1000, 'degree': 3, 'gamma': 0.001, 'kernel': 'poly'}\n",
      "0.524 (+/-0.050) for {'C': 1000, 'degree': 3, 'gamma': 0.0001, 'kernel': 'poly'}\n",
      "0.606 (+/-0.067) for {'C': 1, 'gamma': 0.001, 'kernel': 'sigmoid'}\n",
      "0.555 (+/-0.051) for {'C': 1, 'gamma': 0.0001, 'kernel': 'sigmoid'}\n",
      "0.548 (+/-0.093) for {'C': 10, 'gamma': 0.001, 'kernel': 'sigmoid'}\n",
      "0.589 (+/-0.054) for {'C': 10, 'gamma': 0.0001, 'kernel': 'sigmoid'}\n",
      "0.533 (+/-0.076) for {'C': 100, 'gamma': 0.001, 'kernel': 'sigmoid'}\n",
      "0.595 (+/-0.051) for {'C': 100, 'gamma': 0.0001, 'kernel': 'sigmoid'}\n",
      "0.536 (+/-0.071) for {'C': 1000, 'gamma': 0.001, 'kernel': 'sigmoid'}\n",
      "0.563 (+/-0.055) for {'C': 1000, 'gamma': 0.0001, 'kernel': 'sigmoid'}\n",
      "\n",
      "Detailed classification report:\n",
      "\n",
      "The model is trained on the full development set.\n",
      "The scores are computed on the full evaluation set.\n",
      "\n",
      "              precision    recall  f1-score   support\n",
      "\n",
      "           0       0.58      0.54      0.56       104\n",
      "           1       0.55      0.59      0.57        98\n",
      "\n",
      "    accuracy                           0.56       202\n",
      "   macro avg       0.57      0.57      0.56       202\n",
      "weighted avg       0.57      0.56      0.56       202\n",
      "\n",
      "\n"
     ]
    }
   ],
   "source": [
    "scores = ['precision', 'recall']\n",
    "\n",
    "for score in scores:\n",
    "    print(\"# Tuning hyper-parameters for %s\" % score)\n",
    "    print()\n",
    "\n",
    "    clf = GridSearchCV(\n",
    "        svm.SVC(cache_size=2000), tuned_parameters, scoring='%s_macro' % score\n",
    "    )\n",
    "    clf.fit(X_train, y_train)\n",
    "\n",
    "    print(\"Best parameters set found on development set:\")\n",
    "    print()\n",
    "    print(clf.best_params_)\n",
    "    print()\n",
    "    print(\"Grid scores on development set:\")\n",
    "    print()\n",
    "    means = clf.cv_results_['mean_test_score']\n",
    "    stds = clf.cv_results_['std_test_score']\n",
    "    for mean, std, params in zip(means, stds, clf.cv_results_['params']):\n",
    "        print(\"%0.3f (+/-%0.03f) for %r\"\n",
    "              % (mean, std * 2, params))\n",
    "    print()\n",
    "\n",
    "    print(\"Detailed classification report:\")\n",
    "    print()\n",
    "    print(\"The model is trained on the full development set.\")\n",
    "    print(\"The scores are computed on the full evaluation set.\")\n",
    "    print()\n",
    "    y_true, y_pred = y_test, clf.predict(X_test)\n",
    "    print(classification_report(y_true, y_pred))\n",
    "    print()"
   ]
  },
  {
   "cell_type": "code",
   "execution_count": null,
   "metadata": {},
   "outputs": [],
   "source": []
  }
 ],
 "metadata": {
  "kernelspec": {
   "display_name": "Python 3",
   "language": "python",
   "name": "python3"
  },
  "language_info": {
   "codemirror_mode": {
    "name": "ipython",
    "version": 3
   },
   "file_extension": ".py",
   "mimetype": "text/x-python",
   "name": "python",
   "nbconvert_exporter": "python",
   "pygments_lexer": "ipython3",
   "version": "3.8.1"
  },
  "toc-autonumbering": true,
  "widgets": {
   "state": {},
   "version": "1.1.2"
  }
 },
 "nbformat": 4,
 "nbformat_minor": 4
}
